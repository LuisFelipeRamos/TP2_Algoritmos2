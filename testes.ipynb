{
 "cells": [
  {
   "cell_type": "code",
   "execution_count": 1,
   "metadata": {},
   "outputs": [],
   "source": [
    "import branch_and_bound as bnb\n",
    "import twice_around_the_tree as tat\n",
    "import christofides as cr\n",
    "import instance_generator as ig"
   ]
  },
  {
   "cell_type": "code",
   "execution_count": 2,
   "metadata": {},
   "outputs": [
    {
     "name": "stdout",
     "output_type": "stream",
     "text": [
      "['A', 'V', 'X', '_', 'I', '`', ']', 'R', 'J', 'U', 'P', 'L', 'S', '[', 'E', 'N', 'Q', 'K', 'O', 'Y', 'G', '\\\\', 'B', 'F', 'T', 'D', 'H', 'C', '^', 'W', 'M', 'Z', 'A']\n",
      "Time: 0.008912324905395508\n"
     ]
    }
   ],
   "source": [
    "import time \n",
    "instance = ig.generate_tsp_instance(5,10)\n",
    "s = time.time()\n",
    "path = tat.twice_around_the_tree(instance)\n",
    "e = time.time()\n",
    "\n",
    "\n",
    "print([chr(x+65) for x in path])\n",
    "print(f\"Time: {e-s}\")"
   ]
  },
  {
   "cell_type": "code",
   "execution_count": 4,
   "metadata": {},
   "outputs": [
    {
     "name": "stdout",
     "output_type": "stream",
     "text": [
      "time: 0.14188909530639648\n",
      "['A', 'B', 'G', 'F', 'H', 'E', 'C', 'D', 'A']\n",
      "time: 0.0003619194030761719\n",
      "['A', 'B', 'H', 'F', 'G', 'E', 'D', 'C', 'A']\n"
     ]
    }
   ],
   "source": [
    "import numpy as np\n",
    "instance = np.array([   [np.inf, 3, 1, 5, 8], \n",
    "                        [3, np.inf, 6, 7, 9], \n",
    "                        [1, 6, np.inf, 4, 2], \n",
    "                        [5, 7, 4, np.inf, 3], \n",
    "                        [8, 9, 2, 3, np.inf]])\n",
    "\n",
    "instance = ig.generate_tsp_instance(3, 10)\n",
    "\n",
    "s = time.time()\n",
    "path = bnb.branch_and_bound_tsp(instance)\n",
    "e = time.time()\n",
    "print(f\"time: {e-s}\")\n",
    "print([chr(x+65) for x in path])\n",
    "\n",
    "s = time.time()\n",
    "path = tat.twice_around_the_tree(instance)\n",
    "e = time.time()\n",
    "print(f\"time: {e-s}\")\n",
    "print([chr(x+65) for x in path])\n"
   ]
  }
 ],
 "metadata": {
  "kernelspec": {
   "display_name": "Python 3.9.15 ('tp2')",
   "language": "python",
   "name": "python3"
  },
  "language_info": {
   "codemirror_mode": {
    "name": "ipython",
    "version": 3
   },
   "file_extension": ".py",
   "mimetype": "text/x-python",
   "name": "python",
   "nbconvert_exporter": "python",
   "pygments_lexer": "ipython3",
   "version": "3.9.15"
  },
  "orig_nbformat": 4,
  "vscode": {
   "interpreter": {
    "hash": "5a90ba225c74d97943c7edbc38059130a85219d5de9e93e959f5d65725f50566"
   }
  }
 },
 "nbformat": 4,
 "nbformat_minor": 2
}
