{
 "cells": [
  {
   "cell_type": "code",
   "execution_count": 1,
   "metadata": {},
   "outputs": [],
   "source": [
    "import branch_and_bound as bnb\n",
    "import twice_around_the_tree as tat\n",
    "import christofides as cr\n",
    "import instance_generator as ig\n",
    "import time"
   ]
  },
  {
   "cell_type": "code",
   "execution_count": 30,
   "metadata": {},
   "outputs": [
    {
     "name": "stdout",
     "output_type": "stream",
     "text": [
      "2430.248295597313\n",
      "1490.780749001172\n",
      "1.6301849196976734\n"
     ]
    }
   ],
   "source": [
    "import numpy as np\n",
    "graph = np.array([   [np.inf, 3, 1, 5, 8], \n",
    "                        [3, np.inf, 6, 7, 9], \n",
    "                        [1, 6, np.inf, 4, 2], \n",
    "                        [5, 7, 4, np.inf, 3], \n",
    "                        [8, 9, 2, 3, np.inf]])\n",
    "\n",
    "graph = ig.generate_tsp_instance(6, 10)\n",
    "\n",
    "\n",
    "\n",
    "\n",
    "path = tat.twice_around_the_tree(graph)\n",
    "cost = tat.get_path_cost(path, graph)\n",
    "mst_cost = tat.get_mst_cost(graph)\n",
    "\n",
    "print(cost)\n",
    "print(mst_cost)\n",
    "print(cost/mst_cost)"
   ]
  }
 ],
 "metadata": {
  "kernelspec": {
   "display_name": "Python 3.10.6 64-bit",
   "language": "python",
   "name": "python3"
  },
  "language_info": {
   "codemirror_mode": {
    "name": "ipython",
    "version": 3
   },
   "file_extension": ".py",
   "mimetype": "text/x-python",
   "name": "python",
   "nbconvert_exporter": "python",
   "pygments_lexer": "ipython3",
   "version": "3.10.6"
  },
  "orig_nbformat": 4,
  "vscode": {
   "interpreter": {
    "hash": "916dbcbb3f70747c44a77c7bcd40155683ae19c65e1c03b4aa3499c5328201f1"
   }
  }
 },
 "nbformat": 4,
 "nbformat_minor": 2
}
