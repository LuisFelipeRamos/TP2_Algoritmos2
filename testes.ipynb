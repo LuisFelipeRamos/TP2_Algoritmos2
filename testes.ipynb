{
 "cells": [
  {
   "cell_type": "code",
   "execution_count": 1,
   "metadata": {},
   "outputs": [],
   "source": [
    "import branch_and_bound as bnb\n",
    "import twice_around_the_tree as tat\n",
    "import christofides as cr\n",
    "import instance_generator as ig\n",
    "import utils\n",
    "import time\n",
    "import numpy as np\n",
    "import networkx as nx"
   ]
  },
  {
   "cell_type": "code",
   "execution_count": 53,
   "metadata": {},
   "outputs": [
    {
     "name": "stdout",
     "output_type": "stream",
     "text": [
      "[0, 6, 7, 5, 14, 10, 11, 15, 8, 1, 13, 4, 12, 9, 3, 2, 0]\n",
      "310.0\n",
      "[0, 6, 7, 5, 2, 3, 9, 4, 12, 10, 11, 15, 8, 1, 13, 14, 0]\n",
      "316.0\n"
     ]
    }
   ],
   "source": [
    "\n",
    "graph = np.array([  [0, 3, 1, 5, 8], \n",
    "                    [3, 0, 6, 7, 9], \n",
    "                    [1, 6, 0, 4, 2], \n",
    "                    [5, 7, 4, 0, 3], \n",
    "                    [8, 9, 2, 3, 0]])\n",
    "\n",
    "graph = ig.generate_tsp_instance(4, 100, dist = \"manhattan\")\n",
    "\n",
    "path_c = cr.christofides(graph)\n",
    "cost_c = utils.get_path_cost(path_c, graph)\n",
    "\n",
    "g = nx.from_numpy_array(graph)\n",
    "path_c_nx = nx.approximation.christofides(g)\n",
    "cost_c_nx = utils.get_path_cost(path_c_nx, graph)\n",
    "\n",
    "print(path_c)\n",
    "print(cost_c)\n",
    "\n",
    "print(path_c_nx)\n",
    "print(cost_c_nx)\n"
   ]
  }
 ],
 "metadata": {
  "kernelspec": {
   "display_name": "Python 3.10.6 64-bit",
   "language": "python",
   "name": "python3"
  },
  "language_info": {
   "codemirror_mode": {
    "name": "ipython",
    "version": 3
   },
   "file_extension": ".py",
   "mimetype": "text/x-python",
   "name": "python",
   "nbconvert_exporter": "python",
   "pygments_lexer": "ipython3",
   "version": "3.10.6"
  },
  "orig_nbformat": 4,
  "vscode": {
   "interpreter": {
    "hash": "916dbcbb3f70747c44a77c7bcd40155683ae19c65e1c03b4aa3499c5328201f1"
   }
  }
 },
 "nbformat": 4,
 "nbformat_minor": 2
}
